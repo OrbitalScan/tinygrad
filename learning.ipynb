{
 "cells": [
  {
   "cell_type": "code",
   "execution_count": 1,
   "metadata": {},
   "outputs": [],
   "source": [
    "import torch\n",
    "from tensor import Tensor\n",
    "import numpy as np \n",
    "from functools import partialmethod"
   ]
  },
  {
   "cell_type": "markdown",
   "metadata": {},
   "source": [
    "# Testing tinygrad Code"
   ]
  },
  {
   "cell_type": "code",
   "execution_count": 17,
   "metadata": {},
   "outputs": [
    {
     "name": "stdout",
     "output_type": "stream",
     "text": [
      "[[ 0.62641215 -1.2421117  -0.6285554 ]]\n",
      "[[ 1.2792739  -0.4708473  -0.2693473 ]\n",
      " [-1.1053059  -0.8712512  -1.1002955 ]\n",
      " [ 0.4948434   1.621536    0.23808944]]\n",
      "Tensor array([[ 0.8013527 ,  0.58484495,  0.1692997 ],\n",
      "       [-0.69237703,  1.0821913 ,  0.69159675],\n",
      "       [ 0.30997592, -2.014129  , -0.1496524 ]], dtype=float32) with grad None\n",
      "Tensor array([[0.8013527 , 0.58484495, 0.1692997 ],\n",
      "       [0.        , 1.0821913 , 0.69159675],\n",
      "       [0.30997592, 0.        , 0.        ]], dtype=float32) with grad None\n"
     ]
    }
   ],
   "source": [
    "x_init_ = np.random.randn(1, 3).astype(np.float32)\n",
    "print(x_init_)\n",
    "y_init_ = np.random.randn(3, 3).astype(np.float32)\n",
    "print(y_init_)\n",
    "\n",
    "Tx = Tensor(x_init_)\n",
    "Tw = Tensor(y_init_)\n",
    "out = Tx.mul(Tw)\n",
    "print(out)\n",
    "print(out.relu())"
   ]
  },
  {
   "cell_type": "markdown",
   "metadata": {},
   "source": [
    "# Building Tensor "
   ]
  },
  {
   "cell_type": "code",
   "execution_count": 3,
   "metadata": {},
   "outputs": [],
   "source": [
    "class OSTensor:\n",
    "    def __init__(self, data):\n",
    "        self.data = data\n",
    "        self.grad = None\n",
    "    \n",
    "    def __repr__(self) -> str:\n",
    "        return f\"OSTensor with data: {self.data}\""
   ]
  },
  {
   "cell_type": "markdown",
   "metadata": {},
   "source": [
    "## Add Operators to the OSTensor "
   ]
  },
  {
   "cell_type": "code",
   "execution_count": 4,
   "metadata": {},
   "outputs": [],
   "source": [
    "# Crete the context class to save the data\n",
    "\n",
    "class Context:\n",
    "    def __init__(self, operatorClass, *osFunctionCls_and_data):\n",
    "        self.operatorClass = operatorClass # arg\n",
    "        self.osFunctionCls_and_data = osFunctionCls_and_data # tensors (tuple of - (<osFunction:class>, np.array[[1,2,4]]) )\n",
    "        self.saved_tensors = []\n",
    "\n",
    "    def __repr__(self) -> str:\n",
    "        return f\"Context: operatorClass - {self.operatorClass}, osFunctionCls_and_data - {self.osFunctionCls_and_data}\"\n",
    "\n",
    "    def save_for_backward(self, *data):\n",
    "        self.saved_tensors.extend(data)\n",
    "\n",
    "\n",
    "# This class implement the apply method which act as a factory method to register other oprtators\n",
    "class osFunction:\n",
    "    def apply(self, operatorClass, *data):\n",
    "        contextObj = Context(operatorClass, self, *data) # the self in here is the osTensor object \n",
    "        val = operatorClass.forward(contextObj, self.data, *[t.data for t in data])\n",
    "        t_ = OSTensor(val)\n",
    "        return t_"
   ]
  },
  {
   "cell_type": "markdown",
   "metadata": {},
   "source": [
    "## This method regiter operators into OSTensor class "
   ]
  },
  {
   "cell_type": "code",
   "execution_count": 5,
   "metadata": {},
   "outputs": [],
   "source": [
    "def register(name, operatorClass):\n",
    "    setattr(OSTensor, name, partialmethod(operatorClass.apply, operatorClass))"
   ]
  },
  {
   "cell_type": "markdown",
   "metadata": {},
   "source": [
    "## Tensor Multiplication"
   ]
  },
  {
   "cell_type": "code",
   "execution_count": 6,
   "metadata": {},
   "outputs": [],
   "source": [
    "# Define the multiplication class and register it\n",
    "class osMul(osFunction):\n",
    "    @staticmethod\n",
    "    def forward(contextObj, x, y):\n",
    "        contextObj.save_for_backward(x, y)\n",
    "        return x * y\n",
    "    \n",
    "register('mul', osMul)"
   ]
  },
  {
   "cell_type": "markdown",
   "metadata": {},
   "source": [
    "### Test multiplications "
   ]
  },
  {
   "cell_type": "code",
   "execution_count": 7,
   "metadata": {},
   "outputs": [
    {
     "name": "stdout",
     "output_type": "stream",
     "text": [
      "OSTensor with data: [[-2.026669   -0.9409733  -0.02389286]\n",
      " [-0.7585743  -0.2116443   1.3177452 ]\n",
      " [-1.0714103   0.511845   -0.7438869 ]]\n"
     ]
    }
   ],
   "source": [
    "# Test the Multiplication\n",
    "val1 = np.random.randn(1, 3).astype(np.float32)\n",
    "val2 = np.random.randn(3, 3).astype(np.float32)\n",
    "\n",
    "t1 = OSTensor(val1)\n",
    "t2 = OSTensor(val2)\n",
    "t3 = t1.mul(t2)\n",
    "print(t2)"
   ]
  },
  {
   "cell_type": "markdown",
   "metadata": {},
   "source": [
    "## Dot operator (martix multiplications)"
   ]
  },
  {
   "cell_type": "code",
   "execution_count": 8,
   "metadata": {},
   "outputs": [],
   "source": [
    "# Implement the metrix multipliation \n",
    "\n",
    "class osDot(osFunction):\n",
    "    @staticmethod\n",
    "    def forward(contextObj, input, weight):\n",
    "        contextObj.save_for_backward(input, weight)\n",
    "        return input.dot(weight)\n",
    "    \n",
    "register('dot', osDot)"
   ]
  },
  {
   "cell_type": "markdown",
   "metadata": {},
   "source": [
    "### testing matrix multiplication"
   ]
  },
  {
   "cell_type": "code",
   "execution_count": 9,
   "metadata": {},
   "outputs": [
    {
     "name": "stdout",
     "output_type": "stream",
     "text": [
      "OSTensor with data: [[ 1.0743885   0.48609254 -1.2785537 ]]\n"
     ]
    }
   ],
   "source": [
    "# test metrix multiplication\n",
    "\n",
    "x_init_ = np.random.randn(1, 3).astype(np.float32)\n",
    "y_init_ = np.random.randn(3, 3).astype(np.float32)\n",
    "\n",
    "x = OSTensor(x_init_)\n",
    "y = OSTensor(y_init_)\n",
    "\n",
    "out = x.dot(y)\n",
    "print(out)"
   ]
  },
  {
   "cell_type": "markdown",
   "metadata": {},
   "source": [
    "## ReLU operator"
   ]
  },
  {
   "cell_type": "code",
   "execution_count": 10,
   "metadata": {},
   "outputs": [],
   "source": [
    "# Implement ReLU method \n",
    "\n",
    "class osReLU(osFunction):\n",
    "    @staticmethod\n",
    "    def forward(contextObj, input):\n",
    "        contextObj.save_for_backward(input)\n",
    "        return np.maximum(input, 0)\n",
    "    \n",
    "register('relu', osReLU)\n"
   ]
  },
  {
   "cell_type": "markdown",
   "metadata": {},
   "source": [
    "### testing ReLU operator "
   ]
  },
  {
   "cell_type": "code",
   "execution_count": 11,
   "metadata": {},
   "outputs": [
    {
     "name": "stdout",
     "output_type": "stream",
     "text": [
      "OSTensor with data: [[ 1.0743885   0.48609254 -1.2785537 ]]\n",
      "OSTensor with data: [[1.0743885  0.48609254 0.        ]]\n"
     ]
    }
   ],
   "source": [
    "# test the ReLU method\n",
    "print(out)\n",
    "out2 = out.relu()\n",
    "print(out2)"
   ]
  },
  {
   "cell_type": "markdown",
   "metadata": {},
   "source": [
    "## Sum operator "
   ]
  },
  {
   "cell_type": "code",
   "execution_count": 12,
   "metadata": {},
   "outputs": [],
   "source": [
    "# Sum Tensors \n",
    "class osSum(osFunction):\n",
    "    @staticmethod\n",
    "    def forward(contextObj, input):\n",
    "        contextObj.save_for_backward(input)\n",
    "        return np.array(input.sum())\n",
    "    \n",
    "register('sum', osSum)"
   ]
  },
  {
   "cell_type": "markdown",
   "metadata": {},
   "source": [
    "### testing Sum operator "
   ]
  },
  {
   "cell_type": "code",
   "execution_count": 13,
   "metadata": {},
   "outputs": [
    {
     "data": {
      "text/plain": [
       "OSTensor with data: 1.560481071472168"
      ]
     },
     "execution_count": 13,
     "metadata": {},
     "output_type": "execute_result"
    }
   ],
   "source": [
    "# test the sum \n",
    "out2.sum()"
   ]
  },
  {
   "cell_type": "markdown",
   "metadata": {},
   "source": [
    "## LogSoftMax operator "
   ]
  },
  {
   "cell_type": "code",
   "execution_count": 14,
   "metadata": {},
   "outputs": [],
   "source": [
    "# implement logsoftmax\n",
    "class osLogSoftMax(osFunction):\n",
    "    @staticmethod\n",
    "    def forward(contextObj, input):\n",
    "        contextObj.save_for_backward(input)\n",
    "        def logsumexp(x):\n",
    "            c = x.max(axis=1)\n",
    "            return c + np.log(np.exp(x-c.reshape((-1, 1))).sum(axis=1))\n",
    "        output = input - logsumexp(input).reshape((-1, 1))\n",
    "        contextObj.save_for_backward(output)\n",
    "        return output\n",
    "    \n",
    "register('logsoftmax', osLogSoftMax)"
   ]
  },
  {
   "cell_type": "markdown",
   "metadata": {},
   "source": [
    "### testing LogSoftMax"
   ]
  },
  {
   "cell_type": "code",
   "execution_count": 15,
   "metadata": {},
   "outputs": [
    {
     "name": "stdout",
     "output_type": "stream",
     "text": [
      "OSTensor with data: [[-0.6401572 -1.2284532 -1.7145457]]\n"
     ]
    }
   ],
   "source": [
    "# test the logsoftmax\n",
    "out3 = out2.logsoftmax()\n",
    "print(out3)"
   ]
  },
  {
   "cell_type": "markdown",
   "metadata": {},
   "source": [
    "# Testing the code and compare with tinygrad results"
   ]
  },
  {
   "cell_type": "code",
   "execution_count": 16,
   "metadata": {},
   "outputs": [
    {
     "name": "stdout",
     "output_type": "stream",
     "text": [
      "[[-1.9164127  0.709103  -1.1444359]]\n",
      "[[-1.9164127  0.709103  -1.1444359]]\n",
      "**********\n",
      "[[3.4285579  0.42149386 3.7809215 ]]\n",
      "[[3.4285579  0.42149386 3.7809215 ]]\n",
      "**********\n",
      "**********\n",
      "Tensor array([[-0.9049716, -3.9120357, -0.552608 ]], dtype=float32) with grad None\n",
      "OSTensor with data: [[-0.9049716 -3.9120357 -0.552608 ]]\n",
      "**********\n",
      "Tensor array([[ 5.380907e-03, -6.105719e+00,  5.690182e-01]], dtype=float32) with grad None\n",
      "OSTensor with data: [[ 5.380907e-03 -6.105719e+00  5.690182e-01]]\n",
      "**********\n",
      "Tensor array(-5.5313196, dtype=float32) with grad None\n",
      "OSTensor with data: -5.531319618225098\n"
     ]
    }
   ],
   "source": [
    "x_init = np.random.randn(1,3).astype(np.float32)\n",
    "W_init = np.random.randn(3,3).astype(np.float32)\n",
    "m_init = np.random.randn(1,3).astype(np.float32)\n",
    "\n",
    "x = Tensor(x_init)\n",
    "W = Tensor(W_init)\n",
    "m = Tensor(m_init)\n",
    "\n",
    "osx = OSTensor(x_init)\n",
    "osw = OSTensor(W_init)\n",
    "osm = OSTensor(m_init)\n",
    "\n",
    "print(x.data)\n",
    "print(osx.data)\n",
    "\n",
    "assert np.array_equal(x.data, osx.data)\n",
    "print('*'*10)\n",
    "out = x.dot(W)\n",
    "os_out = osx.dot(osw)\n",
    "\n",
    "print(out.data)\n",
    "print(os_out.data)\n",
    "\n",
    "assert np.array_equal(out.data, os_out.data)\n",
    "\n",
    "print('*'*10)\n",
    "outr = out.relu()\n",
    "os_outr = os_out.relu()\n",
    "\n",
    "assert np.array_equal(outr.data, os_outr.data)\n",
    "\n",
    "print('*'*10)\n",
    "outl = outr.logsoftmax()\n",
    "os_outl = os_outr.logsoftmax()\n",
    "\n",
    "print(outl)\n",
    "print(os_outl)\n",
    "assert np.array_equal(outl.data, os_outl.data)\n",
    "\n",
    "print('*'*10)\n",
    "outm = outl.mul(m)\n",
    "os_outm = os_outl.mul(osm)\n",
    "\n",
    "print(outm)\n",
    "print(os_outm)\n",
    "\n",
    "assert np.array_equal(outm.data, os_outm.data)\n",
    "\n",
    "print('*'*10)\n",
    "outx = outm.sum()\n",
    "os_outx = os_outm.sum()\n",
    "\n",
    "print(outx)\n",
    "print(os_outx)\n",
    "\n",
    "assert np.array_equal(outx.data, os_outx.data)\n",
    "\n",
    "# outx.backward()\n",
    "\n",
    "# return outx.data, x.grad, W.grad\n",
    "\n"
   ]
  },
  {
   "cell_type": "markdown",
   "metadata": {},
   "source": [
    "![Tensor1](img/tensor1.png)"
   ]
  },
  {
   "cell_type": "markdown",
   "metadata": {},
   "source": [
    "![tensor2](img/tensor2.png)"
   ]
  },
  {
   "cell_type": "markdown",
   "metadata": {},
   "source": []
  }
 ],
 "metadata": {
  "kernelspec": {
   "display_name": "tinygrad",
   "language": "python",
   "name": "python3"
  },
  "language_info": {
   "codemirror_mode": {
    "name": "ipython",
    "version": 3
   },
   "file_extension": ".py",
   "mimetype": "text/x-python",
   "name": "python",
   "nbconvert_exporter": "python",
   "pygments_lexer": "ipython3",
   "version": "3.8.16"
  }
 },
 "nbformat": 4,
 "nbformat_minor": 2
}
