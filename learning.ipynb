{
 "cells": [
  {
   "cell_type": "code",
   "execution_count": 21,
   "metadata": {},
   "outputs": [],
   "source": [
    "from tensor import Tensor\n",
    "import numpy as np \n",
    "from functools import partialmethod"
   ]
  },
  {
   "cell_type": "code",
   "execution_count": 5,
   "metadata": {},
   "outputs": [
    {
     "name": "stdout",
     "output_type": "stream",
     "text": [
      "[[-0.8195286  -0.47795168  0.08329567]]\n"
     ]
    }
   ],
   "source": [
    "x_init_ = np.random.randn(1, 3).astype(np.float32)\n",
    "print(x_init_)"
   ]
  },
  {
   "cell_type": "code",
   "execution_count": 6,
   "metadata": {},
   "outputs": [
    {
     "data": {
      "text/plain": [
       "['__class__',\n",
       " '__delattr__',\n",
       " '__dict__',\n",
       " '__dir__',\n",
       " '__doc__',\n",
       " '__eq__',\n",
       " '__format__',\n",
       " '__ge__',\n",
       " '__getattribute__',\n",
       " '__gt__',\n",
       " '__hash__',\n",
       " '__init__',\n",
       " '__init_subclass__',\n",
       " '__le__',\n",
       " '__lt__',\n",
       " '__module__',\n",
       " '__ne__',\n",
       " '__new__',\n",
       " '__reduce__',\n",
       " '__reduce_ex__',\n",
       " '__repr__',\n",
       " '__setattr__',\n",
       " '__sizeof__',\n",
       " '__str__',\n",
       " '__subclasshook__',\n",
       " '__weakref__',\n",
       " '_ctx',\n",
       " 'data',\n",
       " 'grad',\n",
       " 'mul']"
      ]
     },
     "execution_count": 6,
     "metadata": {},
     "output_type": "execute_result"
    }
   ],
   "source": [
    "x_ = Tensor(x_init_)\n",
    "\n",
    "dir(x_)"
   ]
  },
  {
   "cell_type": "markdown",
   "metadata": {},
   "source": [
    "# Building Tensor "
   ]
  },
  {
   "cell_type": "code",
   "execution_count": 100,
   "metadata": {},
   "outputs": [],
   "source": [
    "class OSTensor:\n",
    "    def __init__(self, data):\n",
    "        self.data = data\n",
    "    \n",
    "    def __repr__(self) -> str:\n",
    "        return f\"OSTensor with data: {self.data}\""
   ]
  },
  {
   "cell_type": "markdown",
   "metadata": {},
   "source": [
    "## Add the multiplication to the OSTensor"
   ]
  },
  {
   "cell_type": "code",
   "execution_count": 101,
   "metadata": {},
   "outputs": [
    {
     "name": "stdout",
     "output_type": "stream",
     "text": [
      "OSTensor with data: 15\n",
      "OSTensor with data: 8\n"
     ]
    }
   ],
   "source": [
    "class osFunction:\n",
    "    def apply(self, osClass, data):\n",
    "        val = osClass.forward(self.data, data)\n",
    "        t_ = OSTensor(val)\n",
    "        return t_\n",
    "\n",
    "# Define the multiplication class \n",
    "class osMul:\n",
    "    @staticmethod\n",
    "    def forward(x, y):\n",
    "        return x * y\n",
    "    \n",
    "class osAdd:\n",
    "    @staticmethod\n",
    "    def forward(x, y):\n",
    "        return x + y.data\n",
    "\n",
    "setattr(OSTensor, 'Multiply', partialmethod(osFunction.apply, osMul))\n",
    "setattr(OSTensor, 'Add', partialmethod(osFunction.apply, osAdd))\n",
    "\n",
    "t1 = OSTensor(3)\n",
    "t2 = OSTensor(5)\n",
    "\n",
    "t3 = t1.Multiply(5)\n",
    "print(t3)\n",
    "\n",
    "t4 = t1.Add(t2)\n",
    "print(t4)"
   ]
  },
  {
   "cell_type": "markdown",
   "metadata": {},
   "source": [
    "### Need to register the Multiplication in OSTensor class "
   ]
  },
  {
   "cell_type": "code",
   "execution_count": 6,
   "metadata": {},
   "outputs": [],
   "source": [
    "\n",
    "setattr(OSTensor, 'Mul', osMul.forward)\n"
   ]
  },
  {
   "cell_type": "code",
   "execution_count": 7,
   "metadata": {},
   "outputs": [
    {
     "name": "stdout",
     "output_type": "stream",
     "text": [
      "in Mul forward <__main__.OSTensor object at 0x107d029d0> 2\n"
     ]
    },
    {
     "ename": "TypeError",
     "evalue": "unsupported operand type(s) for *: 'OSTensor' and 'int'",
     "output_type": "error",
     "traceback": [
      "\u001b[0;31m---------------------------------------------------------------------------\u001b[0m",
      "\u001b[0;31mTypeError\u001b[0m                                 Traceback (most recent call last)",
      "Cell \u001b[0;32mIn[7], line 5\u001b[0m\n\u001b[1;32m      1\u001b[0m x_init \u001b[38;5;241m=\u001b[39m np\u001b[38;5;241m.\u001b[39mrandom\u001b[38;5;241m.\u001b[39mrandn(\u001b[38;5;241m1\u001b[39m, \u001b[38;5;241m3\u001b[39m)\u001b[38;5;241m.\u001b[39mastype(np\u001b[38;5;241m.\u001b[39mfloat32)\n\u001b[1;32m      3\u001b[0m x \u001b[38;5;241m=\u001b[39m OSTensor(x_init)\n\u001b[0;32m----> 5\u001b[0m \u001b[43mx\u001b[49m\u001b[38;5;241;43m.\u001b[39;49m\u001b[43mMul\u001b[49m\u001b[43m(\u001b[49m\u001b[38;5;241;43m2\u001b[39;49m\u001b[43m)\u001b[49m\n",
      "Cell \u001b[0;32mIn[5], line 28\u001b[0m, in \u001b[0;36mosMul.forward\u001b[0;34m(x, y)\u001b[0m\n\u001b[1;32m     26\u001b[0m \u001b[38;5;250m\u001b[39m\u001b[38;5;124;03m\"\"\" Forward pass \"\"\"\u001b[39;00m\n\u001b[1;32m     27\u001b[0m \u001b[38;5;28mprint\u001b[39m(\u001b[38;5;124mf\u001b[39m\u001b[38;5;124m'\u001b[39m\u001b[38;5;124min Mul forward \u001b[39m\u001b[38;5;132;01m{\u001b[39;00mx\u001b[38;5;132;01m}\u001b[39;00m\u001b[38;5;124m \u001b[39m\u001b[38;5;132;01m{\u001b[39;00my\u001b[38;5;132;01m}\u001b[39;00m\u001b[38;5;124m'\u001b[39m)\n\u001b[0;32m---> 28\u001b[0m \u001b[38;5;28;01mreturn\u001b[39;00m \u001b[43mx\u001b[49m\u001b[43m \u001b[49m\u001b[38;5;241;43m*\u001b[39;49m\u001b[43m \u001b[49m\u001b[43my\u001b[49m\n",
      "\u001b[0;31mTypeError\u001b[0m: unsupported operand type(s) for *: 'OSTensor' and 'int'"
     ]
    }
   ],
   "source": [
    "x_init = np.random.randn(1, 3).astype(np.float32)\n",
    "\n",
    "x = OSTensor(x_init)\n",
    "\n",
    "x.Mul(2)"
   ]
  },
  {
   "cell_type": "markdown",
   "metadata": {},
   "source": [
    "# Scrap"
   ]
  },
  {
   "cell_type": "code",
   "execution_count": 8,
   "metadata": {},
   "outputs": [
    {
     "name": "stdout",
     "output_type": "stream",
     "text": [
      " in the A \n",
      "A with arg1, (<__main__.B object at 0x112a02eb0>, 'arg3', 2, 3, 4, 4, array([[-0.8195286 , -0.47795168,  0.08329567]], dtype=float32))\n",
      "<__main__.B object at 0x112a02eb0>\n"
     ]
    }
   ],
   "source": [
    "class A:\n",
    "    def __init__(self, arg, *x):\n",
    "        self.arg = arg\n",
    "        self.tensors = x\n",
    "        print(f\" in the A \")\n",
    "\n",
    "    def __repr__(self):\n",
    "        return f\"A with {self.arg}, {self.tensors}\"\n",
    "\n",
    "class B:\n",
    "    def apply(self, arg, *x):\n",
    "        self.ctx = A(arg, self, 'arg3', 2, 3, 4, 4, *x)\n",
    "\n",
    "\n",
    "b = B()\n",
    "b.apply('arg1', x_init_)\n",
    "print(b.ctx)\n",
    "\n",
    "\n",
    "print(b.ctx.tensors[0])\n",
    "\n",
    "\n",
    "\n",
    "\n",
    "\n",
    "\n",
    "\n",
    "\n"
   ]
  },
  {
   "cell_type": "code",
   "execution_count": 59,
   "metadata": {},
   "outputs": [
    {
     "name": "stdout",
     "output_type": "stream",
     "text": [
      "I am in the apply method in testFunction class: 30\n",
      "5\n",
      "x: 5, y: 30\n",
      "Data in T: 5\n",
      "Data in T: 150\n"
     ]
    },
    {
     "data": {
      "text/plain": [
       "['Multiply',\n",
       " '__class__',\n",
       " '__delattr__',\n",
       " '__dict__',\n",
       " '__dir__',\n",
       " '__doc__',\n",
       " '__eq__',\n",
       " '__format__',\n",
       " '__ge__',\n",
       " '__getattribute__',\n",
       " '__gt__',\n",
       " '__hash__',\n",
       " '__init__',\n",
       " '__init_subclass__',\n",
       " '__le__',\n",
       " '__lt__',\n",
       " '__module__',\n",
       " '__ne__',\n",
       " '__new__',\n",
       " '__reduce__',\n",
       " '__reduce_ex__',\n",
       " '__repr__',\n",
       " '__setattr__',\n",
       " '__sizeof__',\n",
       " '__str__',\n",
       " '__subclasshook__',\n",
       " '__weakref__',\n",
       " 'data']"
      ]
     },
     "execution_count": 59,
     "metadata": {},
     "output_type": "execute_result"
    }
   ],
   "source": [
    "setattr(A, 'newmethod', lambda x: 2*x)\n",
    "\n",
    "class T:\n",
    "    def __init__(self, data):\n",
    "        self.data = data\n",
    "    def __repr__(self):\n",
    "        return f\"Data in T: {self.data}\"\n",
    "       \n",
    "\n",
    "class testFunction:\n",
    "    def apply(self, Mul, data):\n",
    "        print(f\"I am in the apply method in testFunction class: {data}\")\n",
    "        print(self.data)\n",
    "        val = Mul.forward(self.data, data)\n",
    "        ret = T(val)\n",
    "        return ret\n",
    "\n",
    "\n",
    "class testMul(testFunction):\n",
    "    @staticmethod\n",
    "    def forward(x, y):\n",
    "        print(f\"x: {x}, y: {y}\")\n",
    "        return x * y\n",
    "\n",
    "\n",
    "\n",
    "setattr(T, 'Multiply', partialmethod(testFunction.apply, testMul))\n",
    "\n",
    "\n",
    "\n",
    "t1 = T(5)\n",
    "\n",
    "t2 = t1.Multiply(30)\n",
    "\n",
    "\n",
    "print(t1)\n",
    "print(t2)\n",
    "\n",
    "\n",
    "dir(t1)"
   ]
  },
  {
   "cell_type": "code",
   "execution_count": 30,
   "metadata": {},
   "outputs": [
    {
     "name": "stdout",
     "output_type": "stream",
     "text": [
      "\u001b[0;31mInit signature:\u001b[0m \u001b[0mpartialmethod\u001b[0m\u001b[0;34m(\u001b[0m\u001b[0mfunc\u001b[0m\u001b[0;34m,\u001b[0m \u001b[0;34m/\u001b[0m\u001b[0;34m,\u001b[0m \u001b[0;34m*\u001b[0m\u001b[0margs\u001b[0m\u001b[0;34m,\u001b[0m \u001b[0;34m**\u001b[0m\u001b[0mkeywords\u001b[0m\u001b[0;34m)\u001b[0m\u001b[0;34m\u001b[0m\u001b[0;34m\u001b[0m\u001b[0m\n",
      "\u001b[0;31mDocstring:\u001b[0m     \n",
      "Method descriptor with partial application of the given arguments\n",
      "and keywords.\n",
      "\n",
      "Supports wrapping existing descriptors and handles non-descriptor\n",
      "callables as instance methods.\n",
      "\u001b[0;31mFile:\u001b[0m           ~/anaconda3/envs/tinygrad/lib/python3.8/functools.py\n",
      "\u001b[0;31mType:\u001b[0m           type\n",
      "\u001b[0;31mSubclasses:\u001b[0m     "
     ]
    }
   ],
   "source": [
    "partialmethod?"
   ]
  },
  {
   "cell_type": "code",
   "execution_count": 17,
   "metadata": {},
   "outputs": [
    {
     "data": {
      "text/plain": [
       "4"
      ]
     },
     "execution_count": 17,
     "metadata": {},
     "output_type": "execute_result"
    }
   ],
   "source": [
    "A.newmethod(2)"
   ]
  },
  {
   "cell_type": "code",
   "execution_count": null,
   "metadata": {},
   "outputs": [],
   "source": []
  }
 ],
 "metadata": {
  "kernelspec": {
   "display_name": "tinygrad",
   "language": "python",
   "name": "python3"
  },
  "language_info": {
   "codemirror_mode": {
    "name": "ipython",
    "version": 3
   },
   "file_extension": ".py",
   "mimetype": "text/x-python",
   "name": "python",
   "nbconvert_exporter": "python",
   "pygments_lexer": "ipython3",
   "version": "3.8.16"
  }
 },
 "nbformat": 4,
 "nbformat_minor": 2
}
